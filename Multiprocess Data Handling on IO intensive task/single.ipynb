{
 "cells": [
  {
   "cell_type": "markdown",
   "metadata": {},
   "source": [
    "# First Time to Python Multi-processing\n",
    "I want to share something I learned about Python multi-processing on handling middle size data on a single machine.\n",
    "\n",
    "By middle size, I mean GB level data. In my case, that is 13.2GB of data, which is small enough to load into memory but once load into memeory, you may not have enough memory to run any algorithms.\n",
    "\n",
    "Let's dive into it.\n",
    "\n",
    "# Problem Description\n",
    "I have 13.2GB of data consisted of 7481 binary files. Each file is about 1.81M.\n",
    "\n",
    "My task is simple:\n",
    "    1. Read the file into a Python data structure\n",
    "    2. Process the data to an image\n",
    "    3. Write the image to disk\n",
    "    \n",
    "## File Format\n",
    "The file stores a collection of vectors. Each vector has 4 elements: x, y, z, r\n",
    "\n",
    "Each element is a float32, so the size of a vector is 16 bytes.\n",
    "\n",
    "There is no delimiters between 2 vectors. Therefore, if the file size is 32 bytes, it has and only has 2 vectors. If the size of a file is not dividible by 16 bytes, it is not a valid file.\n",
    "   \n"
   ]
  },
  {
   "cell_type": "code",
   "execution_count": 3,
   "metadata": {
    "collapsed": true
   },
   "outputs": [],
   "source": [
    "def read_velodyne_data(file_path):\n",
    "\t\"\"\"\n",
    "\tRead velodyne binary data and return a numpy array\n",
    "\t\"\"\"\n",
    "\n",
    "\t# First, check the size of this file to see if it's a valid velodyne binary file\n",
    "\tsize = os.stat(file_path).st_size\n",
    "\tif size % 16 != 0:\n",
    "\t\traise Exception('The size of '+file_path+' is not dividible by 16 bytes')\n",
    "\n",
    "\twith open(file_path, 'rb') as f:\n",
    "\t\t# Allocate memory for numpy array\n",
    "\t\tvelodyne_data = np.empty(shape=(size//16, 4), dtype=np.float32)\n",
    "\t\t\n",
    "\t\t# Read the data, 16 bytes each time\n",
    "\t\ti = 0\n",
    "\t\treader = BufferedReader(f)\n",
    "\t\twhile reader.peek(16):\n",
    "\t\t\tread_bytes = reader.read(16)\n",
    "\t\t\tvelodyne_data[i] = np.frombuffer(read_bytes, dtype=np.float32)\n",
    "\t\t\ti += 1\n",
    "\t\t\n",
    "\t\t# Check whether correct amount of bytes were read\n",
    "\t\tif i != size/16:\n",
    "\t\t\terror = ' '.join(['The file size is', str(size), ', but', str(i), 'bytes were read'])\n",
    "\t\t\traise Exception(error)\n",
    "\n",
    "\t\treturn velodyne_data"
   ]
  },
  {
   "cell_type": "markdown",
   "metadata": {},
   "source": [
    "## Let's process the data\n",
    "Each file is a velodyne point cloud scan\n",
    "\n",
    "This is an sample processed image. This a a birdview of the lidar data\n",
    "<img src=\"birdview.jpg\" style=\"width: 600px; height: 600px\"/>\n",
    "\n",
    "The image is 1600 x 1600 pixel. Each pixel represent 10cm x 10cm of space. The range of the lidar in the x and y direction is 80m.\n",
    "\n",
    "Where x is left and right, y is front and back.\n",
    "\n",
    "We have 3 channels for this image."
   ]
  },
  {
   "cell_type": "code",
   "execution_count": 4,
   "metadata": {
    "collapsed": true
   },
   "outputs": [],
   "source": [
    "def bird_view_map(velodyne_data):\n",
    "\t\"\"\"\n",
    "\tImplements the method in https://arxiv.org/pdf/1611.07759.pdf\n",
    "\t:param velodyne_data: a list of velodyne cloud points\n",
    "\t:return: 2D image with 3 channels: height, intensity and density\n",
    "\t\"\"\"\n",
    "\tbird_view = np.zeros(shape=(1600, 1600, 3), dtype=np.float32)\n",
    "\tfor point in velodyne_data:\n",
    "\t\tx = point[0]\n",
    "\t\ty = point[1]\n",
    "\t\tz = point[2]\n",
    "\t\tr = point[3]\n",
    "\t\t# if (-40 <= x <= 40) and (-40 <= y <= 40):\n",
    "\t\txi = 800 - np.int(np.ceil(x/0.1))\n",
    "\t\tyi = 800 - np.int(np.ceil(y/0.1))\n",
    "\t\tif -z > bird_view[yi][xi][0]:\n",
    "\t\t\tbird_view[yi][xi][0] = -z\n",
    "\t\t\tbird_view[yi][xi][1] = r\n",
    "\t\t\tbird_view[yi][xi][2] += 1\n",
    "\n",
    "\t# todo: normalize birdview with the real method\n",
    "\tbird_view[:,:,0] = np.interp(bird_view[:,:,0], xp=(np.min(bird_view[:,:,0]), np.max(bird_view[:,:,0])), fp=(0, 255))\n",
    "\tbird_view[:,:,1] = np.interp(bird_view[:,:,1], xp=(0, 1), fp=(0, 255))\n",
    "\tbird_view[:,:,2] = np.interp(bird_view[:,:,2], xp=(np.min(bird_view[:,:,2]), np.max(bird_view[:,:,2])), fp=(0, 255))\n",
    "\treturn bird_view"
   ]
  },
  {
   "cell_type": "code",
   "execution_count": 16,
   "metadata": {
    "collapsed": false
   },
   "outputs": [
    {
     "name": "stdout",
     "output_type": "stream",
     "text": [
      "Single processed version used 14.144984722137451 seconds\n"
     ]
    }
   ],
   "source": [
    "from glob import glob\n",
    "import cv2\n",
    "import os\n",
    "import numpy as np\n",
    "from io import BufferedReader\n",
    "import time\n",
    "\n",
    "t = time.time()\n",
    "for path in glob('data/raw/*.bin'):\n",
    "    data = read_velodyne_data(path)\n",
    "    view = bird_view_map(data)\n",
    "    cv2.imwrite(''.join(['data/processed/', os.path.basename(path)[:-4], '.png']), view)\n",
    "used = time.time() - t\n",
    "print('Single processed version used', used, 'seconds')"
   ]
  },
  {
   "cell_type": "code",
   "execution_count": 12,
   "metadata": {
    "collapsed": false
   },
   "outputs": [],
   "source": [
    "def read_velodyne_data_quick(file_path):\n",
    "    \"\"\"\n",
    "    Read velodyne binary data and return a numpy array\n",
    "    \"\"\"\n",
    "\n",
    "    # First, check the size of this file to see if it's a valid velodyne binary file\n",
    "    size = os.stat(file_path).st_size\n",
    "    if size % 16 != 0:\n",
    "        raise Exception('The size of '+file_path+' is not dividible by 16 bytes')\n",
    "\n",
    "    with open(file_path, 'rb') as f:\n",
    "        # Allocate memory for numpy array\n",
    "        velodyne_data = np.empty(shape=(size//16, 4), dtype=np.float32)\n",
    "\n",
    "        # Read the data, 16 bytes each time\n",
    "        i = 0\n",
    "        reader = BufferedReader(f)\n",
    "        read_bytes = reader.read(16)\n",
    "        while read_bytes:\n",
    "            velodyne_data[i] = np.frombuffer(read_bytes, dtype=np.float32)\n",
    "            read_bytes = reader.read(16)\n",
    "            i += 1\n",
    "\n",
    "        # Check whether correct amount of bytes were read\n",
    "        if i != size/16:\n",
    "            error = ' '.join(['The file size is', str(size), ', but', str(i), 'bytes were read'])\n",
    "            raise Exception(error)\n",
    "\n",
    "        return velodyne_data"
   ]
  },
  {
   "cell_type": "code",
   "execution_count": 17,
   "metadata": {
    "collapsed": false
   },
   "outputs": [
    {
     "name": "stdout",
     "output_type": "stream",
     "text": [
      "Better version used 13.390703439712524 seconds\n",
      "It is  -0.7542812824249268 seconds faster\n"
     ]
    }
   ],
   "source": [
    "t = time.time()\n",
    "for path in glob('data/raw/*.bin'):\n",
    "    data = read_velodyne_data_quick(path)\n",
    "    view = bird_view_map(data)\n",
    "    cv2.imwrite(''.join(['data/processed/', os.path.basename(path)[:-4], '.png']), view)\n",
    "used2 = time.time() - t\n",
    "print('Better version used', used2, 'seconds')\n",
    "print('It is ', used - used2, 'seconds faster')"
   ]
  },
  {
   "cell_type": "code",
   "execution_count": null,
   "metadata": {
    "collapsed": false
   },
   "outputs": [],
   "source": [
    "def f(path):\n",
    "\tview = bird_view_map(read_velodyne_data_quick(path[0]))\n",
    "\tcv2.imwrite(''.join([path[1], '/', os.path.basename(path[0])[:-4], '.png']), view)\n",
    "\n",
    "def generate_birdviews(data_paths, to_dir, workers):\n",
    "\t\"\"\"\n",
    "\tThis function process velodyne data to birdview in parallel\n",
    "\t:param data_paths: a list of paths to velodyne xxx.bin files\n",
    "\t:param     to_dir: write birdview maps to this directory\n",
    "\t:param    workers: number of processes\n",
    "\t\"\"\"\n",
    "\twith Pool(workers) as p:\n",
    "\t\tto_dirs = [to_dir] * len(data_paths)\n",
    "\t\tp.map(f, list(zip(data_paths, to_dirs)))\n",
    "\n",
    "from multiprocessing import Pool\n",
    "        \n",
    "t = time.time()\n",
    "generate_birdviews(glob('data/raw/*.bin'), to_dir='data/try2', workers=8)\n",
    "used3 = time.time() - t\n",
    "print(used3)"
   ]
  },
  {
   "cell_type": "code",
   "execution_count": null,
   "metadata": {
    "collapsed": true
   },
   "outputs": [],
   "source": []
  }
 ],
 "metadata": {
  "kernelspec": {
   "display_name": "Python 3",
   "language": "python",
   "name": "python3"
  },
  "language_info": {
   "codemirror_mode": {
    "name": "ipython",
    "version": 3
   },
   "file_extension": ".py",
   "mimetype": "text/x-python",
   "name": "python",
   "nbconvert_exporter": "python",
   "pygments_lexer": "ipython3",
   "version": "3.5.2"
  }
 },
 "nbformat": 4,
 "nbformat_minor": 2
}
